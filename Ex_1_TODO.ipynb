{
 "cells": [
  {
   "cell_type": "markdown",
   "metadata": {},
   "source": [
    "Complete the following code before committing and pushing them to your GH repo:"
   ]
  },
  {
   "cell_type": "code",
   "execution_count": 4,
   "metadata": {},
   "outputs": [
    {
     "ename": "SyntaxError",
     "evalue": "invalid syntax (22137175.py, line 4)",
     "output_type": "error",
     "traceback": [
      "\u001b[1;36m  Cell \u001b[1;32mIn[4], line 4\u001b[1;36m\u001b[0m\n\u001b[1;33m    poem = # TODO: Fill in the poem variable using multiline strings\u001b[0m\n\u001b[1;37m           ^\u001b[0m\n\u001b[1;31mSyntaxError\u001b[0m\u001b[1;31m:\u001b[0m invalid syntax\n"
     ]
    }
   ],
   "source": [
    "str1 = ' baa, baa, baa, black sheep, have you any wool? '\n",
    "str2 = 'Nursery rhymes'\n",
    "\n",
    "poem = # TODO: Fill in the poem variable using multiline strings\n",
    "print() # Print str2 in upper case using upper()\n",
    "print() # Print str2 in upper case using lower()\n",
    "print() # Remove leading and trailing whitespaces using strip()\n",
    "print() # Replace 'baa' with 'maa' using remove()\n",
    "print() # Split str1 into a list using split() with space as the delimiter\n",
    "print() # Count the number of occurrences of 'baa' in str1\n",
    "print() # Count the number of occurrences of 'baa' in str1 from index 5 to 30\n",
    "print() # Find the index of 'y' in str1\n",
    "print() # Find the index of 'z' in str1\n",
    "print() # Check if str1 ends with '? '\n",
    "print() # Check if str2 starts with 'Nursery\n",
    "1"
   ]
  },
  {
   "cell_type": "code",
   "execution_count": null,
   "metadata": {},
   "outputs": [],
   "source": []
  }
 ],
 "metadata": {
  "kernelspec": {
   "display_name": "Python 3",
   "language": "python",
   "name": "python3"
  },
  "language_info": {
   "codemirror_mode": {
    "name": "ipython",
    "version": 3
   },
   "file_extension": ".py",
   "mimetype": "text/x-python",
   "name": "python",
   "nbconvert_exporter": "python",
   "pygments_lexer": "ipython3",
   "version": "3.8.10"
  }
 },
 "nbformat": 4,
 "nbformat_minor": 2
}
